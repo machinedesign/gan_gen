{
 "cells": [
  {
   "cell_type": "code",
   "execution_count": null,
   "metadata": {
    "collapsed": false
   },
   "outputs": [],
   "source": [
    "from __future__ import print_function\n",
    "import os\n",
    "from skimage.io import imsave\n",
    "import argparse\n",
    "import os\n",
    "import random\n",
    "import torch\n",
    "import torch.nn as nn\n",
    "import torch.nn.parallel\n",
    "import torch.backends.cudnn as cudnn\n",
    "import torch.optim as optim\n",
    "import torch.utils.data\n",
    "import torchvision.datasets as dset\n",
    "import torchvision.transforms as transforms\n",
    "import torchvision.utils as vutils\n",
    "from torch.autograd import Variable\n",
    "from IPython.display import Image\n",
    "from skimage.io import imread\n",
    "from skimage.transform import resize\n",
    "import numpy as np\n",
    "import glob\n",
    "\n",
    "from ipywidgets import FloatSlider, IntSlider, Button\n",
    "from ipywidgets import interact, interactive, fixed, interact_manual\n",
    "from collections import OrderedDict\n",
    "\n",
    "from IPython.display import display,clear_output\n",
    "from ipywidgets import widgets\n",
    "from collections import OrderedDict\n",
    "%matplotlib inline\n",
    "import matplotlib.pyplot as plt\n",
    "\n",
    "from machinedesign.viz import grid_of_images_default, horiz_merge\n",
    "\n",
    "import PIL.Image\n",
    "from io import BytesIO\n",
    "import IPython.display\n",
    "import numpy as np\n",
    "def showarray(a, fmt='png'):\n",
    "    a = np.uint8(a)\n",
    "    f = BytesIO()\n",
    "    PIL.Image.fromarray(a).save(f, fmt)\n",
    "    IPython.display.display(IPython.display.Image(data=f.getvalue()))"
   ]
  },
  {
   "cell_type": "code",
   "execution_count": null,
   "metadata": {
    "collapsed": false
   },
   "outputs": [],
   "source": [
    "!ls"
   ]
  },
  {
   "cell_type": "code",
   "execution_count": null,
   "metadata": {
    "collapsed": false
   },
   "outputs": [],
   "source": [
    "dataset = 'shoes'\n",
    "\n",
    "G = torch.load('{}/gen.th'.format(dataset), map_location=lambda storage, loc: storage)\n",
    "nz = G.main[0].weight.size(0)"
   ]
  },
  {
   "cell_type": "code",
   "execution_count": null,
   "metadata": {
    "collapsed": false
   },
   "outputs": [],
   "source": [
    "z_train = np.load('{}/bin.npz'.format(dataset))['X']"
   ]
  },
  {
   "cell_type": "code",
   "execution_count": null,
   "metadata": {
    "collapsed": false
   },
   "outputs": [],
   "source": [
    "def update(w):\n",
    "    batch_size = 1\n",
    "    clear_output()\n",
    "    z = [w[str(i)].value if str(i) in w else 0 for i in range(nz)]\n",
    "    z = np.array(z)\n",
    "    z = z[np.newaxis, :, np.newaxis, np.newaxis]\n",
    "    z = z.astype(np.float32)\n",
    "    z = torch.from_numpy(z)\n",
    "    z = z.repeat(batch_size, 1, 1, 1)\n",
    "    z = Variable(z)\n",
    "    fake = G(z)\n",
    "    im = fake.data\n",
    "    im = im.cpu().numpy()\n",
    "    im = im[0]\n",
    "    im = im.transpose((1, 2, 0))\n",
    "    if im.shape[2] == 1:\n",
    "        im = im[:, :, 0]\n",
    "    if im.min()<0:\n",
    "        im = 0.5*(im + 1)\n",
    "    plt.imshow(im, cmap='gray')\n",
    "\n",
    "w = OrderedDict()\n",
    "for i in range(0, nz):\n",
    "    w[str(i)] = IntSlider(min=0, max=1, value=0)\n",
    "\n",
    "def click_train(bt):\n",
    "    ind = np.random.randint(0, len(z_train))\n",
    "    z = z_train[ind]\n",
    "    for i in range(nz):\n",
    "        w[str(i)].value = z[i]\n",
    "    update(w)\n",
    "    \n",
    "def click_rand(bt):\n",
    "    z = (np.random.uniform(size=nz) <= 0.5).astype('int32')\n",
    "    for i in range(nz):\n",
    "        w[str(i)].value = z[i]\n",
    "    update(w)\n",
    "\n",
    "w['train'] = Button(description='Random train')\n",
    "w['train'].on_click(click_train)\n",
    "w['random'] = Button(description='Random')\n",
    "w['random'].on_click(click_rand)\n",
    "\n",
    "w['display'] = Button(description='Display')\n",
    "w['display'].on_click(lambda _:update(w))\n",
    "widget_list = [w for name, w in w.items() if name in ('train', 'display', 'random') or int(name)<nz]\n",
    "vbox = widgets.VBox(children=widget_list)\n",
    "display(vbox)"
   ]
  },
  {
   "cell_type": "code",
   "execution_count": null,
   "metadata": {
    "collapsed": false
   },
   "outputs": [],
   "source": [
    "z = np.zeros((nz, nz))\n",
    "z[np.arange(len(z)), np.arange(len(z))] = 1\n",
    "z = z.astype(np.float32)\n",
    "z = torch.from_numpy(z)\n",
    "z = z.view(z.size(0), z.size(1), 1, 1)\n",
    "z = Variable(z)\n",
    "x = G(z)"
   ]
  },
  {
   "cell_type": "code",
   "execution_count": null,
   "metadata": {
    "collapsed": false,
    "scrolled": true
   },
   "outputs": [],
   "source": [
    "im = grid_of_images_default(x.data.numpy(), normalize=True)\n",
    "imsave('{}/latent.png'.format(dataset), im)\n",
    "Image('{}/latent.png'.format(dataset))"
   ]
  },
  {
   "cell_type": "code",
   "execution_count": null,
   "metadata": {
    "collapsed": false
   },
   "outputs": [],
   "source": [
    "print(nz)\n",
    "for i in range(1):\n",
    "    z = np.random.uniform(size=(50, nz)) <= 0.5\n",
    "    z = z.astype('float32')    \n",
    "    z = torch.from_numpy(z)\n",
    "    \n",
    "    F = np.random.randint(0, nz, size=1)\n",
    "    \n",
    "    for f in F:\n",
    "        z[:, f] = 1.\n",
    "    z_ = z.view(z.size(0), z.size(1), 1, 1)\n",
    "    z_ = Variable(z_)\n",
    "    x1 = G(z_)\n",
    "    \n",
    "    for f in F:\n",
    "        z[:, f] = 0.\n",
    "    z_ = z.view(z.size(0), z.size(1), 1, 1)\n",
    "    z_ = Variable(z_)\n",
    "    x0 = G(z_)\n",
    "    \n",
    "    x1 = x1.data.numpy()\n",
    "    x0 = x0.data.numpy()\n",
    "    x = np.empty((x0.shape[0], 2) + x0.shape[1:])\n",
    "    x[:, 0] = x0\n",
    "    x[:, 1] = x1\n",
    "    x = x.reshape((x0.shape[0] * 2,) + x.shape[2:])\n",
    "    im = grid_of_images_default(x, normalize=True)\n",
    "    im = (im * 255.)\n",
    "    showarray(im)"
   ]
  }
 ],
 "metadata": {
  "anaconda-cloud": {},
  "kernelspec": {
   "display_name": "Python [conda env:py3]",
   "language": "python",
   "name": "conda-env-py3-py"
  },
  "language_info": {
   "codemirror_mode": {
    "name": "ipython",
    "version": 3
   },
   "file_extension": ".py",
   "mimetype": "text/x-python",
   "name": "python",
   "nbconvert_exporter": "python",
   "pygments_lexer": "ipython3",
   "version": "3.5.2"
  },
  "widgets": {
   "state": {
    "f63b7f91a6854396913d2eca03c0a327": {
     "views": [
      {
       "cell_index": 4
      }
     ]
    }
   },
   "version": "1.2.0"
  }
 },
 "nbformat": 4,
 "nbformat_minor": 1
}
